{
 "cells": [
  {
   "cell_type": "markdown",
   "metadata": {
    "id": "YbgiUEs1i9TU"
   },
   "source": [
    "# Resource\n",
    "\n",
    "## https://scikit-learn.org/stable/modules/ensemble.html"
   ]
  },
  {
   "cell_type": "markdown",
   "metadata": {
    "id": "AIxwDiXPNkLe"
   },
   "source": [
    "**Demonstration of the deailed steps in AdaBoost**\n",
    "\n",
    "\n",
    "*   (NOTE 1) The strong classifier can be improved by adding more unique weak classifiers.\n",
    "*   (NOTE 2) Differently shaped classifiers, such as diagonal or elliptical, could be better weak classifiers."
   ]
  },
  {
   "cell_type": "code",
   "execution_count": null,
   "metadata": {
    "id": "dQYQ_MVCxDL8"
   },
   "outputs": [],
   "source": [
    "#from google.colab import drive\n",
    "#drive.mount('/content/drive')"
   ]
  },
  {
   "cell_type": "code",
   "execution_count": 4,
   "metadata": {
    "id": "ovTU95joN7oX"
   },
   "outputs": [],
   "source": [
    "import numpy as np\n",
    "import math"
   ]
  },
  {
   "cell_type": "code",
   "execution_count": 5,
   "metadata": {
    "id": "RAdIP2PoOWjy"
   },
   "outputs": [],
   "source": [
    "def AdaBoostStep(y, h, D, max_points):\n",
    "    error = sum(1 for i in range(max_points) if (y[i] != h[i])) / max_points\n",
    "    alpha = .5*math.log((1-error) / error)\n",
    "\n",
    "    Z = 0\n",
    "    D_exp = []\n",
    "    h_alpha = []\n",
    "    for i in range(max_points):\n",
    "        D_exp.append(i)\n",
    "        D_exp[i] = D[i] * math.exp(-alpha*y[i]*h[i])\n",
    "        h_alpha.append(i)\n",
    "        h_alpha[i] = alpha * h[i]\n",
    "        Z += D_exp[i]\n",
    "\n",
    "    D_next = []\n",
    "    print('\\nx(i)\\ty(i)\\th(x(i))\\tD(i)\\t\\terror\\t\\talpha\\t\\tD*exp\\t\\t Z\\t\\t  D(i+1)')\n",
    "    for i in range(max_points):\n",
    "        D_next.append(i)\n",
    "        D_next[i] = D_exp[i] / Z\n",
    "        print('{0:2s}\\t{1:3d}\\t{2:4d}\\t{3:5f}\\t{4:6f}\\t{5:7f}\\t{6:8f}\\t{7:9f}\\t{8:10f}'.format(points[i],y[i],h[i],D[i],error,alpha,D_exp[i],Z,D_next[i]))\n",
    "\n",
    "    return D_next, h_alpha"
   ]
  },
  {
   "cell_type": "code",
   "execution_count": 6,
   "metadata": {
    "id": "OpPfRy92SehF"
   },
   "outputs": [],
   "source": [
    "y  = [ 1,-1, 1,-1,-1, 1,-1,-1, 1,-1, 1]\n",
    "h1 = [ 1,-1, 1, 1,-1, 1, 1,-1, 1, 1, 1]\n",
    "h2 = [-1,-1,-1,-1,-1, 1, 1, 1, 1, 1, 1]\n",
    "h3 = [-1,-1, 1,-1,-1, 1, 1,-1, 1,-1, 1]\n",
    "h4 = [-1,-1,-1,-1,-1,-1,-1,-1, 1, 1, 1]\n",
    "\n",
    "max_points = len(y)\n",
    "points = []\n",
    "for i in range(max_points):\n",
    "    points.append(i)\n",
    "    points[i] = 'p' + str(i + 1)"
   ]
  },
  {
   "cell_type": "code",
   "execution_count": 7,
   "metadata": {
    "colab": {
     "base_uri": "https://localhost:8080/",
     "height": 1020
    },
    "executionInfo": {
     "elapsed": 583,
     "status": "ok",
     "timestamp": 1560982978102,
     "user": {
      "displayName": "Hyuk Cho",
      "photoUrl": "",
      "userId": "10374101826971021363"
     },
     "user_tz": -120
    },
    "id": "oUjHHzqGSmni",
    "outputId": "96bd1c97-99cf-4bdb-9e7a-d564774411e4"
   },
   "outputs": [
    {
     "name": "stdout",
     "output_type": "stream",
     "text": [
      "\n",
      "x(i)\ty(i)\th(x(i))\tD(i)\t\terror\t\talpha\t\tD*exp\t\t Z\t\t  D(i+1)\n",
      "p1\t  1\t   1\t0.090909\t0.272727\t0.490415\t0.055670\t 0.890724\t  0.062500\n",
      "p2\t -1\t  -1\t0.090909\t0.272727\t0.490415\t0.055670\t 0.890724\t  0.062500\n",
      "p3\t  1\t   1\t0.090909\t0.272727\t0.490415\t0.055670\t 0.890724\t  0.062500\n",
      "p4\t -1\t   1\t0.090909\t0.272727\t0.490415\t0.148454\t 0.890724\t  0.166667\n",
      "p5\t -1\t  -1\t0.090909\t0.272727\t0.490415\t0.055670\t 0.890724\t  0.062500\n",
      "p6\t  1\t   1\t0.090909\t0.272727\t0.490415\t0.055670\t 0.890724\t  0.062500\n",
      "p7\t -1\t   1\t0.090909\t0.272727\t0.490415\t0.148454\t 0.890724\t  0.166667\n",
      "p8\t -1\t  -1\t0.090909\t0.272727\t0.490415\t0.055670\t 0.890724\t  0.062500\n",
      "p9\t  1\t   1\t0.090909\t0.272727\t0.490415\t0.055670\t 0.890724\t  0.062500\n",
      "p10\t -1\t   1\t0.090909\t0.272727\t0.490415\t0.148454\t 0.890724\t  0.166667\n",
      "p11\t  1\t   1\t0.090909\t0.272727\t0.490415\t0.055670\t 0.890724\t  0.062500\n",
      "\n",
      "x(i)\ty(i)\th(x(i))\tD(i)\t\terror\t\talpha\t\tD*exp\t\t Z\t\t  D(i+1)\n",
      "p1\t  1\t  -1\t0.062500\t0.454545\t0.091161\t0.068465\t 1.007962\t  0.067925\n",
      "p2\t -1\t  -1\t0.062500\t0.454545\t0.091161\t0.057054\t 1.007962\t  0.056604\n",
      "p3\t  1\t  -1\t0.062500\t0.454545\t0.091161\t0.068465\t 1.007962\t  0.067925\n",
      "p4\t -1\t  -1\t0.166667\t0.454545\t0.091161\t0.152145\t 1.007962\t  0.150943\n",
      "p5\t -1\t  -1\t0.062500\t0.454545\t0.091161\t0.057054\t 1.007962\t  0.056604\n",
      "p6\t  1\t   1\t0.062500\t0.454545\t0.091161\t0.057054\t 1.007962\t  0.056604\n",
      "p7\t -1\t   1\t0.166667\t0.454545\t0.091161\t0.182574\t 1.007962\t  0.181132\n",
      "p8\t -1\t   1\t0.062500\t0.454545\t0.091161\t0.068465\t 1.007962\t  0.067925\n",
      "p9\t  1\t   1\t0.062500\t0.454545\t0.091161\t0.057054\t 1.007962\t  0.056604\n",
      "p10\t -1\t   1\t0.166667\t0.454545\t0.091161\t0.182574\t 1.007962\t  0.181132\n",
      "p11\t  1\t   1\t0.062500\t0.454545\t0.091161\t0.057054\t 1.007962\t  0.056604\n",
      "\n",
      "x(i)\ty(i)\th(x(i))\tD(i)\t\terror\t\talpha\t\tD*exp\t\t Z\t\t  D(i+1)\n",
      "p1\t  1\t  -1\t0.067925\t0.181818\t0.752039\t0.144090\t 0.882327\t  0.163306\n",
      "p2\t -1\t  -1\t0.056604\t0.181818\t0.752039\t0.026683\t 0.882327\t  0.030242\n",
      "p3\t  1\t   1\t0.067925\t0.181818\t0.752039\t0.032020\t 0.882327\t  0.036290\n",
      "p4\t -1\t  -1\t0.150943\t0.181818\t0.752039\t0.071155\t 0.882327\t  0.080645\n",
      "p5\t -1\t  -1\t0.056604\t0.181818\t0.752039\t0.026683\t 0.882327\t  0.030242\n",
      "p6\t  1\t   1\t0.056604\t0.181818\t0.752039\t0.026683\t 0.882327\t  0.030242\n",
      "p7\t -1\t   1\t0.181132\t0.181818\t0.752039\t0.384239\t 0.882327\t  0.435484\n",
      "p8\t -1\t  -1\t0.067925\t0.181818\t0.752039\t0.032020\t 0.882327\t  0.036290\n",
      "p9\t  1\t   1\t0.056604\t0.181818\t0.752039\t0.026683\t 0.882327\t  0.030242\n",
      "p10\t -1\t  -1\t0.181132\t0.181818\t0.752039\t0.085386\t 0.882327\t  0.096774\n",
      "p11\t  1\t   1\t0.056604\t0.181818\t0.752039\t0.026683\t 0.882327\t  0.030242\n",
      "\n",
      "x(i)\ty(i)\th(x(i))\tD(i)\t\terror\t\talpha\t\tD*exp\t\t Z\t\t  D(i+1)\n",
      "p1\t  1\t  -1\t0.163306\t0.363636\t0.279808\t0.216034\t 0.941101\t  0.229555\n",
      "p2\t -1\t  -1\t0.030242\t0.363636\t0.279808\t0.022861\t 0.941101\t  0.024291\n",
      "p3\t  1\t  -1\t0.036290\t0.363636\t0.279808\t0.048008\t 0.941101\t  0.051012\n",
      "p4\t -1\t  -1\t0.080645\t0.363636\t0.279808\t0.060962\t 0.941101\t  0.064777\n",
      "p5\t -1\t  -1\t0.030242\t0.363636\t0.279808\t0.022861\t 0.941101\t  0.024291\n",
      "p6\t  1\t  -1\t0.030242\t0.363636\t0.279808\t0.040006\t 0.941101\t  0.042510\n",
      "p7\t -1\t  -1\t0.435484\t0.363636\t0.279808\t0.329195\t 0.941101\t  0.349798\n",
      "p8\t -1\t  -1\t0.036290\t0.363636\t0.279808\t0.027433\t 0.941101\t  0.029150\n",
      "p9\t  1\t   1\t0.030242\t0.363636\t0.279808\t0.022861\t 0.941101\t  0.024291\n",
      "p10\t -1\t   1\t0.096774\t0.363636\t0.279808\t0.128020\t 0.941101\t  0.136032\n",
      "p11\t  1\t   1\t0.030242\t0.363636\t0.279808\t0.022861\t 0.941101\t  0.024291\n"
     ]
    }
   ],
   "source": [
    "D1 = []\n",
    "for i in range(max_points):\n",
    "    D1.append(i)\n",
    "    D1[i] = 1 / max_points\n",
    "\n",
    "D2, h1_alpha = AdaBoostStep(y, h1, D1, max_points)\n",
    "D3, h2_alpha = AdaBoostStep(y, h2, D2, max_points)\n",
    "D4, h3_alpha = AdaBoostStep(y, h3, D3, max_points)\n",
    "D5, h4_alpha = AdaBoostStep(y, h4, D4, max_points)\n"
   ]
  },
  {
   "cell_type": "code",
   "execution_count": null,
   "metadata": {
    "colab": {
     "base_uri": "https://localhost:8080/",
     "height": 306
    },
    "executionInfo": {
     "elapsed": 571,
     "status": "ok",
     "timestamp": 1560982980354,
     "user": {
      "displayName": "Hyuk Cho",
      "photoUrl": "",
      "userId": "10374101826971021363"
     },
     "user_tz": -120
    },
    "id": "T54AE6KgNZfv",
    "outputId": "00c17983-55c2-4e7b-85bd-149868701f21"
   },
   "outputs": [
    {
     "name": "stdout",
     "output_type": "stream",
     "text": [
      "\n",
      "\n",
      "x(i)\ty(i)\tsum(h(x(i))*alpha)\tpredictions\n",
      "p1\t  1\t\t-0.632593\t   -1\n",
      "p2\t -1\t\t-1.613422\t   -1\n",
      "p3\t  1\t\t0.871485\t    1\n",
      "p4\t -1\t\t-0.632593\t   -1\n",
      "p5\t -1\t\t-1.613422\t   -1\n",
      "p6\t  1\t\t1.053806\t    1\n",
      "p7\t -1\t\t1.053806\t    1\n",
      "p8\t -1\t\t-1.431100\t   -1\n",
      "p9\t  1\t\t1.613422\t    1\n",
      "p10\t -1\t\t0.109345\t    1\n",
      "p11\t  1\t\t1.613422\t    1\n",
      "\n",
      "Misclassified =  [1, 7, 10]\n",
      "Error         =  0.2727272727272727\n"
     ]
    }
   ],
   "source": [
    "H = []\n",
    "pred = []\n",
    "e = 0\n",
    "misclassified = []\n",
    "print('\\n\\nx(i)\\ty(i)\\tsum(h(x(i))*alpha)\\tpredictions')\n",
    "\n",
    "for i in range(max_points):\n",
    "    H.append(i)\n",
    "    H[i] = h1_alpha[i] + h2_alpha[i] + h3_alpha[i] + h4_alpha[i]\n",
    "    pred.append(i)\n",
    "    if H[i] < 0:\n",
    "        pred[i] = -1\n",
    "    else:\n",
    "        pred[i] = 1\n",
    "    if y[i] != pred[i]:\n",
    "        e += 1\n",
    "        misclassified.append(i+1)\n",
    "    print('{0:2s}\\t{1:3d}\\t\\t{2:4f}\\t{3:5d}'.format(points[i],y[i],H[i],pred[i]))\n",
    "\n",
    "print('\\nMisclassified = ', misclassified)\n",
    "print('Error         = ', e/max_points)"
   ]
  },
  {
   "cell_type": "code",
   "execution_count": null,
   "metadata": {
    "id": "ksfk_lp5y1x1"
   },
   "outputs": [],
   "source": []
  }
 ],
 "metadata": {
  "colab": {
   "collapsed_sections": [],
   "name": "AdaBoost_demonstration.ipynb",
   "provenance": []
  },
  "kernelspec": {
   "display_name": "Python 3 (ipykernel)",
   "language": "python",
   "name": "python3"
  },
  "language_info": {
   "codemirror_mode": {
    "name": "ipython",
    "version": 3
   },
   "file_extension": ".py",
   "mimetype": "text/x-python",
   "name": "python",
   "nbconvert_exporter": "python",
   "pygments_lexer": "ipython3",
   "version": "3.10.12"
  }
 },
 "nbformat": 4,
 "nbformat_minor": 4
}
